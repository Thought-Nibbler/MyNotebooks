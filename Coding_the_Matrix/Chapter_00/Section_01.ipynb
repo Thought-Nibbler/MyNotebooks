{
 "cells": [
  {
   "cell_type": "markdown",
   "metadata": {},
   "source": [
    "# 0.1 集合に関する用語と記法\n"
   ]
  },
  {
   "cell_type": "markdown",
   "metadata": {},
   "source": [
    "## 集合\n",
    "\n",
    "- 数学的な対象の集まりのこと\n",
    "- 各々は重複しない\n",
    "- 各々は順序を持たない\n"
   ]
  },
  {
   "cell_type": "markdown",
   "metadata": {},
   "source": [
    "## 要素\n",
    "\n",
    "- 集合に属する数学的な対象のこと\n"
   ]
  },
  {
   "cell_type": "markdown",
   "metadata": {},
   "source": [
    "## 包含関係\n",
    "\n",
    "- $e$ が 集合 $S$ の要素である（ $S$ が $e$ を含む）場合 $e \\in S$ と書く\n",
    "- 集合 $S_1$ の全ての要素が他の集合 $S_2$ の要素であるとき、 $S_1$ が $S_2$ に **含まれる** といい、 $S_1 \\subseteq S_2$ と書く\n",
    "  - $S_1$ は $S_2$ の **部分集合** であるともいう\n",
    "- 集合が等しくない（下セル参照）、すなわち $S_1\\neq S_2$ ならば $S_1 \\subset S_2$ と書ける\n",
    "  - この場合 $S_1$ は $S_2$ の **真部分集合** であるという\n",
    "\n",
    "\n",
    "### 例\n",
    "\n",
    "- $5$ 未満の自然数の集合を $S_1$ とすると $S_1 = \\{ 1, 2, 3, 4 \\}$ と書ける\n",
    "- $3$ は$S_1$ の要素なので、 $3 \\in S_1$ と書ける\n",
    "- $10$ 未満の自然数の集合を $S_2$ とすると $S_2 = \\{ 1, 2, 3, 4, 5, 6, 7, 8, 9 \\}$ と書ける\n",
    "- $S_1$ の全ての要素が $S_2$ の要素であるので、 $S_1 \\subseteq S_2$ と書ける\n"
   ]
  },
  {
   "cell_type": "markdown",
   "metadata": {},
   "source": [
    "## 集合が等しい\n",
    "\n",
    "- 2つの集合 $S_1, S_2$ が互いに完全に同じ要素を含むならば $S_1, S_2$ は互いに等しい（ $S_1 = S_2$ ）\n",
    "- 証明するには以下を証明できれば良い\n",
    "  - $S_1 \\subseteq S_2$\n",
    "  - $S_2 \\subseteq S_1$\n"
   ]
  },
  {
   "cell_type": "markdown",
   "metadata": {},
   "source": [
    "## 無限個の要素を含む集合\n",
    "\n",
    "- 整数全体の集合を $\\mathbb{Z}$ と書く\n",
    "- 実数全体の集合を $\\mathbb{R}$ と書く\n",
    "- 複素数全体の集合を $\\mathbb{C}$ と書く\n"
   ]
  },
  {
   "cell_type": "markdown",
   "metadata": {},
   "source": [
    "## 濃度\n",
    "\n",
    "- その集合が持つ要素の数\n",
    "- 集合 $S$ の濃度は $\\mid S \\mid$ と表記する\n",
    "\n",
    "### 例\n",
    "\n",
    "- $5$ 未満の自然数の集合 $S$ の濃度は $\\mid S \\mid = \\mid \\{ 1, 2, 3, 4 \\} \\mid = 4$ となる"
   ]
  }
 ],
 "metadata": {
  "kernelspec": {
   "display_name": "MyNotebook",
   "language": "python",
   "name": "mynotebook"
  },
  "language_info": {
   "codemirror_mode": {
    "name": "ipython",
    "version": 3
   },
   "file_extension": ".py",
   "mimetype": "text/x-python",
   "name": "python",
   "nbconvert_exporter": "python",
   "pygments_lexer": "ipython3",
   "version": "3.6.5"
  }
 },
 "nbformat": 4,
 "nbformat_minor": 2
}
