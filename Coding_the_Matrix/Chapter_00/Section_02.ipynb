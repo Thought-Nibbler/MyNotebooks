{
 "cells": [
  {
   "cell_type": "markdown",
   "metadata": {},
   "source": [
    "# 0.2 デカルト積\n"
   ]
  },
  {
   "cell_type": "markdown",
   "metadata": {},
   "source": [
    "## デカルト積（直積）\n",
    "\n",
    "集合 $A, B$ について、それぞれから要素 $a, b$ を取り出す。\n",
    "\n",
    "取り出した要素の組 $(a, b)$ 全てからなる集合を **デカルト積（直積）** という。\n",
    "\n",
    "\n",
    "- 表記は $A \\times B$ となる。\n",
    "- この後は個人的好みで直積の方を使う。\n",
    "\n",
    "### 例\n",
    "\n",
    "集合 $A = \\{1, 3, 5\\}$ と集合 $B = \\{2, 4, 6\\}$ の直積は以下のようになる。\n",
    "\n",
    "> $A \\times B = \\{(1,2), (3,2), (5,2), (1,4), (3,4), (5,4), (1,6), (3,6), (5,6)\\}$\n"
   ]
  },
  {
   "cell_type": "markdown",
   "metadata": {},
   "source": [
    "## 命題 0.2.3\n",
    "\n",
    "有限集合 $A, B$ について、 $\\mid A \\times B \\mid = \\mid A \\mid \\cdot \\mid B\\mid$ が成り立つ。\n",
    "\n",
    "### 例\n",
    "\n",
    "集合 $A = \\{1, 3, 5\\}$ と集合 $B = \\{2, 4, 6\\}$ について、 $\\mid A \\mid = 3, \\mid B \\mid = 3$ である。\n",
    "\n",
    "よって、 $\\mid A \\times B \\mid = 3 \\cdot 3 = 9$ となる。\n"
   ]
  }
 ],
 "metadata": {
  "kernelspec": {
   "display_name": "MyNotebook",
   "language": "python",
   "name": "mynotebook"
  },
  "language_info": {
   "codemirror_mode": {
    "name": "ipython",
    "version": 3
   },
   "file_extension": ".py",
   "mimetype": "text/x-python",
   "name": "python",
   "nbconvert_exporter": "python",
   "pygments_lexer": "ipython3",
   "version": "3.6.5"
  }
 },
 "nbformat": 4,
 "nbformat_minor": 2
}
