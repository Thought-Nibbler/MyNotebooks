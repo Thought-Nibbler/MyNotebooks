{
 "cells": [
  {
   "cell_type": "markdown",
   "metadata": {},
   "source": [
    "# 0.3 関数"
   ]
  },
  {
   "cell_type": "markdown",
   "metadata": {},
   "source": [
    "## 用語\n",
    "\n",
    "### 関数\n",
    "可能な入力全体からなる集合の各要素に対して、ある可能な出力を割り当てる規則のこと。\n",
    "\n",
    "形式的には、入力を $a$ 、出力を $b$ とした組 $(a, b)$ の集合（無限でもOK）のこと。\n",
    "\n",
    "ただし、異なる組で同じ入力を持つことはない（1つの入力に対して出力はただ1つに定まる）。\n",
    "\n",
    "（全単射な写像 $f : A \\longmapsto B ~ (a \\in A, b \\in B)$ ともいえる？）\n",
    "\n",
    "### （関数に対する入力の）像\n",
    "関数の、ある入力に対する出力のこと。\n",
    "\n",
    "### （関数による出力の）原像\n",
    "関数の、ある出力に対する入力のこと。\n",
    "\n",
    "### （関数の）定義域\n",
    "関数の、可能な入力全体からなる集合のこと。\n",
    "\n",
    "### 写像\n",
    "関数 $f$ に対して、入力全体からなる集合を $q$ としたとき、その像を $f(q)$ と書く。\n",
    "\n",
    "$r = f(q)$ の場合、 $f$ は $q$ を $r$ に **写像する** といい、 $q \\longmapsto r$ と書く。"
   ]
  },
  {
   "cell_type": "code",
   "execution_count": null,
   "metadata": {},
   "outputs": [],
   "source": []
  }
 ],
 "metadata": {
  "kernelspec": {
   "display_name": "MyNotebook",
   "language": "python",
   "name": "mynotebook"
  },
  "language_info": {
   "codemirror_mode": {
    "name": "ipython",
    "version": 3
   },
   "file_extension": ".py",
   "mimetype": "text/x-python",
   "name": "python",
   "nbconvert_exporter": "python",
   "pygments_lexer": "ipython3",
   "version": "3.6.6"
  }
 },
 "nbformat": 4,
 "nbformat_minor": 2
}
