{
 "cells": [
  {
   "cell_type": "code",
   "execution_count": 1,
   "metadata": {},
   "outputs": [],
   "source": [
    "%matplotlib inline\n",
    "\n",
    "import numpy as np\n",
    "import matplotlib.pyplot as plt\n",
    "from mpl_toolkits.mplot3d import Axes3D"
   ]
  },
  {
   "cell_type": "markdown",
   "metadata": {},
   "source": [
    "# 二次関数の表記\n",
    "\n",
    "任意の $n$ 変数二次関数 $f : \\mathbb{R}^{n} \\leftarrow \\mathbb{R}$ は以下の形式で記述できる。\n",
    "\n",
    "$f(x) = \\frac{1}{2} x^T A x + b^T x + c$\n",
    "\n",
    "ただし $x \\in \\mathbb{R}^{n}, A \\in \\mathbb{R}^{n \\times n}, b \\in \\mathbb{R}^n, c \\in \\mathbb{R}$\n",
    "\n",
    "ここで、 $\\frac{1}{2} x^T A x$ が $x_{i}^{2}$ （係数は $\\frac{1}{2} A_{i}$ ）\n",
    "および $x_{i} x_{j}$ （係数は $\\frac{1}{2} (A_{ij} + A_{ji})$ ）の項に、\n",
    "$b^T x$ が $x_{i}$ の項に、 $c$ の項が定数項に対応する。\n",
    "\n",
    "さらに、行列 $A$ は対称行列とする（対称でなくても、以下のように等価のまま書き換えることができる）。\n",
    "\n",
    "$A'_{ij} = A'_{ji} = \\frac{1}{2} (A_{ij} + A_{ji})$\n",
    "\n"
   ]
  },
  {
   "cell_type": "code",
   "execution_count": 25,
   "metadata": {},
   "outputs": [
    {
     "data": {
      "text/plain": [
       "4.9855020470880325"
      ]
     },
     "execution_count": 25,
     "metadata": {},
     "output_type": "execute_result"
    }
   ],
   "source": [
    "############################\n",
    "# N変数二次関数の生成\n",
    "############################\n",
    "N = 100\n",
    "# A : 対称NxN行列\n",
    "A = np.random.rand(N, N)\n",
    "for i in range(N):\n",
    "    A[i, i] *= (np.power(np.random.rand() + 10.0, 2.0)) \n",
    "for i in range(N):\n",
    "    for stride in range(1, N - 1):\n",
    "        j = (i + stride) % N\n",
    "        t = 0.5 * (A[i, j] + A[j, i])\n",
    "        A[i, j] = t\n",
    "        A[j, i] = t\n",
    "# b : N次元ベクトル\n",
    "b = np.random.rand(N)\n",
    "# c : スカラ値\n",
    "c = np.random.rand()\n",
    "\n",
    "# 二次関数\n",
    "f = (lambda x: (0.5 * np.dot(x, np.dot(A, x))) + np.dot(b, x) + c)\n",
    "\n",
    "np.min(np.linalg.eig(A)[0])"
   ]
  },
  {
   "cell_type": "code",
   "execution_count": 5,
   "metadata": {},
   "outputs": [],
   "source": [
    "############################\n",
    "# プロット（2変数のみ）\n",
    "############################\n",
    "\n",
    "x1 = np.linspace(-1.0, 1.0, 101)\n",
    "x2 = np.linspace(-1.0, 1.0, 101)\n",
    "X1, X2 = np.meshgrid(x1, x2)\n",
    "X = np.c_[np.ravel(X1), np.ravel(X2)]\n",
    "#Y = np.array(list(map(f, list(X)))).reshape(X1.shape)\n",
    "#fig = plt.figure()\n",
    "#ax = fig.add_subplot(111, projection='3d')\n",
    "#surf = ax.plot_surface(X1, X2, Y, cmap='jet')"
   ]
  },
  {
   "cell_type": "markdown",
   "metadata": {},
   "source": [
    "# 二次関数の勾配\n",
    "\n",
    "上記の二次関数の勾配 $\\nabla f(x)$ は以下のようになる。\n",
    "\n",
    "$\\nabla f(x) = A x + b$\n"
   ]
  },
  {
   "cell_type": "markdown",
   "metadata": {},
   "source": [
    "# 最急降下法\n",
    "\n",
    "これを用いて、パラメータ $x_{i}$ からパラメータ $x_{i + 1}$ に以下のように更新できる。\n",
    "\n",
    "$x_{i + 1} = x_{i} - \\alpha \\nabla f(x_{i})$\n",
    "\n",
    "これを最急降下法という。また以降ではステップサイズ　$\\alpha$ を学習率と呼ぶ。\n"
   ]
  },
  {
   "cell_type": "markdown",
   "metadata": {},
   "source": [
    "# 最適な学習率\n",
    "\n",
    "ここで、最適な $\\alpha$ は以下の関数 $g(\\alpha)$ を最小化するものである（ただし $d_{i} = - \\nabla f(x_{i})$ ）。\n",
    "\n",
    "$$\n",
    "\\begin{eqnarray}\n",
    "g(\\alpha) &=& f(x_i + \\alpha d_i) \\\\\n",
    " &=& \\frac{1}{2} (x_i + \\alpha d_i)^T A (x_i + \\alpha d_i) + b^T (x_i + \\alpha d_i) + c \\\\\n",
    " &=& \\frac{1}{2} \\{x_i^T A x_i + \\alpha x_i^T A d_i + \\alpha d_i^T A x_i + \\alpha^2 d_i^T A d_i\\} + \\{b^T x_i + \\alpha b^T d_i\\} + c \\\\\n",
    " &=& \\frac{1}{2} \\{x_i^T A x_i + \\alpha d_i^T A x_i + \\alpha d_i^T A x_i + \\alpha^2 d_i^T A d_i\\} + \\{b^T x_i + \\alpha b^T d_v\\} + c \\\\\n",
    " &=& \\{\\frac{1}{2} x_i^T A x_i + \\alpha d_0^T A x_i + \\frac{1}{2} \\alpha^2 d_i^T A d_i\\} + \\{b^T x_i + \\alpha b^T d_i\\} + c \\\\\n",
    " &=& \\{\\frac{1}{2} d_i^T A d_i\\} \\alpha^2 + \\{d_i^T A x_i + b^T d_i\\} \\alpha + \\{\\frac{1}{2} x_i^T A x_i + b^T x_i + c\\} \\\\\n",
    " &=& \\{\\frac{1}{2} d_i^T A d_i\\} \\alpha^2 + \\{d_i^T A x_i + d_i^T b\\} \\alpha + \\{\\frac{1}{2} x_i^T A x_i + b^T x_i + c\\} \\\\\n",
    " &=& \\{\\frac{1}{2} d_i^T A d_i\\} \\alpha^2 + d_i^T \\{A x_i + b\\} \\alpha + \\{\\frac{1}{2} x_i^T A x_i + b^T x_i + c\\}\n",
    "\\end{eqnarray}\n",
    "$$\n",
    "\n",
    "より、 $g(\\alpha)$ の導関数 $g'(\\alpha)$ は、以下のようになる。\n",
    "\n",
    "$$\n",
    "\\begin{eqnarray}\n",
    "g'(\\alpha) = \\{d_i^T A d_i\\} \\alpha + d_i^T \\{A x_i + b\\}\n",
    "\\end{eqnarray}\n",
    "$$\n",
    "\n",
    "$g(\\alpha)$ が最小値を持つ（$\\Leftrightarrow$ $g(\\alpha)$ が下に凸）ならば、\n",
    "$g'(\\alpha) = 0$ を満たす $\\alpha$ で最小となる。\n",
    "\n",
    "すなわち\n",
    "\n",
    "$$\n",
    "\\begin{eqnarray}\n",
    "\\{d_i^T A d_i\\} \\alpha + d_i^T \\{A x_i + b\\} &=& 0 \\\\\n",
    "\\alpha &=& - \\frac{d_i^T \\{A x_i + b\\}}{d_i^T A d_i}\n",
    "\\end{eqnarray}\n",
    "$$\n"
   ]
  },
  {
   "cell_type": "code",
   "execution_count": 27,
   "metadata": {},
   "outputs": [
    {
     "data": {
      "text/plain": [
       "[<matplotlib.lines.Line2D at 0x16d9af80f98>]"
      ]
     },
     "execution_count": 27,
     "metadata": {},
     "output_type": "execute_result"
    },
    {
     "data": {
      "image/png": "[encoded data removed]",
      "text/plain": [
       "<Figure size 432x288 with 1 Axes>"
      ]
     },
     "metadata": {},
     "output_type": "display_data"
    }
   ],
   "source": [
    "# これに現在のxを当てはめたものが勾配となる\n",
    "grad_func = (lambda x: np.dot(A, x) + b)\n",
    "\n",
    "# 最適な学習率\n",
    "d_func = (lambda x: -grad_func(x))\n",
    "numerator_alpha = (lambda x: np.dot(d_func(x), (np.dot(A, x) + b)))\n",
    "denominator_alpha = (lambda x: np.dot(d_func(x), np.dot(A, d_func(x))))\n",
    "alpha_func = (lambda x: -numerator_alpha(x) / denominator_alpha(x))\n",
    "\n",
    "count = 20\n",
    "\n",
    "x = []\n",
    "y = []\n",
    "d = []\n",
    "alpha = []\n",
    "\n",
    "x0 = np.random.rand(N) * 1000.0\n",
    "\n",
    "x.append(x0)\n",
    "y.append(f(x[0]))\n",
    "d.append(d_func(x[0]))\n",
    "alpha.append(alpha_func(x[0]))\n",
    "\n",
    "for i in range(count):\n",
    "    x.append(x[i] + alpha[i] * d[i])\n",
    "    y.append(f(x[i + 1]))\n",
    "    d.append(d_func(x[i + 1]))\n",
    "    alpha.append(alpha_func(x[i + 1]))\n",
    "\n",
    "y1 = np.array(y)\n",
    "\n",
    "plt.plot(np.arange(y1.shape[0])[5:], y1[5:])"
   ]
  },
  {
   "cell_type": "markdown",
   "metadata": {},
   "source": [
    "# 最急降下法の問題\n",
    "\n",
    "上記のように、最急降下法は常に前回の勾配ベクトルに対して直角となる方向に降下する。\n",
    "\n",
    "この方向は下図の緑矢印のように、必ずしも最小値の方向を向いていない（特に等高線が楕円の場合に顕著）。\n",
    "\n",
    "<img src=\"img.png\" width=\"200\" height=\"300\">"
   ]
  },
  {
   "cell_type": "markdown",
   "metadata": {},
   "source": [
    "# 共役\n",
    "\n",
    "行列 $A \\in \\mathbb{R}^{n \\times n}$ が半正定値行列ならば、 $A = P^T P (P \\in \\mathbb{R}^{n \\times n})$ と分解できる。\n",
    "\n",
    "また、零でないベクトル $u, v \\in \\mathbb{R}^{n}$ を考えると、以下が成り立つ。\n",
    "\n",
    "$$\n",
    "\\begin{eqnarray}\n",
    "(Pu)^T (Pv) = 0 &\\Leftrightarrow& u^T P^T P v = 0 \\\\\n",
    " &\\Leftrightarrow& u^T A v = 0\n",
    "\\end{eqnarray}\n",
    "$$\n",
    "\n",
    "すなわち、 $u^T A v = 0$ が、元の空間を $P$ によって変形した空間で $u, v$ が直交することの必要十分条件となっている。\n",
    "\n",
    "零でないベクトル $u, v \\in \\mathbb{R}^{n}$ が  $u^T A v = 0$ を満たす場合、\n",
    "$u, v$ は（$A$ に関して）共役であるという。"
   ]
  },
  {
   "cell_type": "markdown",
   "metadata": {},
   "source": [
    "# 共役勾配法\n",
    "\n",
    "上記の問題を解消するために、今回の更新ベクトル $d_i = - \\nabla f(x_i)$ に、\n",
    "前回の更新ベクトル $d_{i - 1}$ 成分を含めることで最小値に向かうようにする。\n",
    "\n",
    "すなわち、以下におき、 $\\beta_{i - 1} \\in \\mathbb{R}$ を正しく決められればよい。\n",
    "\n",
    "$$\n",
    "d_{i} = - \\nabla f(x_i) + \\beta_{i - 1} d_{i - 1}\n",
    "$$\n",
    "\n",
    "ここで、 $d_{i - 1}, d_{i}$ が行列 $A$ に関して共役となればよいので、\n",
    "\n",
    "$$\n",
    "\\begin{eqnarray}\n",
    "d_{i}^T A d_{i - 1} &=& 0 \\\\\n",
    "\\{- \\nabla f(x_{i})\\ + \\beta_{i - 1} d_{i - 1}\\}^T A d_{i - 1} &=& 0 \\\\\n",
    "- \\nabla f(x_{i})^T A d_{i - 1} + \\beta_{i - 1} d_{i - 1}^T A d_{i - 1} &=& 0 \\\\\n",
    "\\beta_{i - 1} d_{i - 1}^T A d_{i - 1} &=& \\nabla f(x_{i})^T A d_{i - 1} \\\\\n",
    "\\beta_{i - 1} &=& \\frac{\\nabla f(x_{i})^T A d_{i - 1}}{d_{i - 1}^T A d_{i - 1}}\n",
    "\\end{eqnarray}\n",
    "$$"
   ]
  },
  {
   "cell_type": "code",
   "execution_count": 29,
   "metadata": {},
   "outputs": [
    {
     "data": {
      "text/plain": [
       "[<matplotlib.lines.Line2D at 0x16d9afc3780>]"
      ]
     },
     "execution_count": 29,
     "metadata": {},
     "output_type": "execute_result"
    },
    {
     "data": {
      "image/png": "[encoded data removed]",
      "text/plain": [
       "<Figure size 432x288 with 1 Axes>"
      ]
     },
     "metadata": {},
     "output_type": "display_data"
    }
   ],
   "source": [
    "numerator_beta = (lambda x0, x1: np.dot(grad_func(x1), np.dot(A, d_func(x0))))\n",
    "denominator_beta = (lambda x0, x1: np.dot(d_func(x0), np.dot(A, d_func(x0))))\n",
    "beta_func = (lambda x0, x1: numerator_beta(x0, x1) / denominator_beta(x0, x1))\n",
    "\n",
    "x = np.zeros((count + 1, N))\n",
    "y = np.zeros(count + 1)\n",
    "d = np.zeros((count + 1, N))\n",
    "alpha = np.zeros(count + 1)\n",
    "beta = np.zeros(count + 1)\n",
    "\n",
    "# 1 : Initialize\n",
    "x[0] = x0\n",
    "y[0] = f(x0)\n",
    "d[0] = d_func(x0)\n",
    "\n",
    "for i in range(count):\n",
    "    # 2 : Find best step size\n",
    "    #     最適な学習率を求める\n",
    "    alpha[i] = alpha_func(x[i])\n",
    "    # 3 : Update the current guess\n",
    "    #     勾配降下によりパラメータを更新する\n",
    "    x[i + 1] = x[i] + alpha[i] * d[i]\n",
    "    y[i + 1] = f(x[i + 1])\n",
    "    # 4 : Update the direction:\n",
    "    #     次回以降のd_{i+1}はd_{i}と共役となるようにする\n",
    "    beta[i] = beta_func(x[i], x[i + 1])\n",
    "    d[i + 1] = - grad_func(x[i + 1]) + beta[i] * d[i]\n",
    "\n",
    "y2 = np.array(y)\n",
    "\n",
    "plt.plot(np.arange(y1.shape[0])[5:], y1[5:])\n",
    "plt.plot(np.arange(y1.shape[0])[5:], y2[5:])\n"
   ]
  },
  {
   "cell_type": "code",
   "execution_count": null,
   "metadata": {},
   "outputs": [],
   "source": []
  }
 ],
 "metadata": {
  "kernelspec": {
   "display_name": "MyNotebook",
   "language": "python",
   "name": "mynotebook"
  },
  "language_info": {
   "codemirror_mode": {
    "name": "ipython",
    "version": 3
   },
   "file_extension": ".py",
   "mimetype": "text/x-python",
   "name": "python",
   "nbconvert_exporter": "python",
   "pygments_lexer": "ipython3",
   "version": "3.6.5"
  }
 },
 "nbformat": 4,
 "nbformat_minor": 2
}
